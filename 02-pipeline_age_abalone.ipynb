{
 "cells": [
  {
   "cell_type": "markdown",
   "metadata": {},
   "source": [
    "# Pipeline машинного обучения"
   ]
  },
  {
   "cell_type": "markdown",
   "metadata": {},
   "source": [
    "## Порядок и критерии успешной реализации проекта\n",
    "\n",
    "В рамках проекта необходимо реализовать следующие пункты:\n",
    "\n",
    "1. [Построение моделей на числовых признаках](#Построение-моделей-на-числовых-признаках) (**1 балл**):\n",
    "  * минимум - NB и kNN, максимум - любые,\n",
    "  * построение моделей на числовых признаках с параметрами по умолчанию,\n",
    "  * вычисление метрик + комментарий о качестве моделей.\n",
    "2. [Подбор гиперпараметров каждой из моделей](#Подбор-гиперпараметров-каждой-из-моделей) (**3 балла**):\n",
    "  * подбор гиперпараметров у каждой из моделей (только на числовых признаках) при помощи GridSearchCV,\n",
    "  * вычисление метрик для лучших найденных моделей,\n",
    "  * текстовый комментарий.\n",
    "3. [Добавление категориальных признаков в лучшую модель](#Добавление-категориальных-признаков-в-лучшую-модель) (**2 балла**):\n",
    "  * добавление категориальных признаков в лучшую модель,\n",
    "  * обучение модели,\n",
    "  * заново подбор её гиперпараметров,\n",
    "  * вычисление метрик,\n",
    "  * текстовый комментарий.\n",
    "4. [Построение _Explainer Dashboard_](#Построение-Explainer-Dashboard) (**1 балл**)\n",
    "  *  сохранение файла с дашбордом на _GitHub_\n",
    "5. [Анализ модели в _Explainer Dashboard_](#Анализ-модели-в-Explainer-Dashboard):\n",
    "  * какие факторы наиболее важны в среднем для получения прогноза? (**1 балл**)\n",
    "  * какие значения метрик получились и что это значит? (**1 балл**)\n",
    "  * анализ 2-3 индивидуальных прогнозов с комментарием (**1 балл**)."
   ]
  },
  {
   "cell_type": "markdown",
   "metadata": {},
   "source": [
    "## Подход к моделированию\n",
    "Целью, которую необходимо достичь с помощью алгоритмов машинного обучения, является подсчёт возраста моллюска галиолиса. Возраст, согласно условию, соотносится с числом колец примерно как 1 к 1,5. Тем самым необходимо спрогнозировать число колец по иным признакам. \n",
    "\n",
    "Достигаемая цель любого моделирования - расчёт наиболее оптимальной метрики качества - решается без указания конкретной метрики. Целевой признак `rings` (число колец раковины _галиолиса_) является целочисленным, следовательно моделированием решается задача регрессии. Таким образом, помимо `Наивного байесовского классификатора` и `Метода ближайшего соседа` используем ещё одну модель, например, `Дерева решений`. Ввиду этого порядок выполнения моделирования будет следующим:\n",
    "1. подготовка датасета (очистка от коррелирующих признаков)\n",
    "2. выделение из датасета тестовой и обучающей выборок\n",
    "3. обучение 3-х моделей, их тестирование и подсчёт метрики качества\n",
    "4. подбор гиперпараметров с помощью _GridSearchCV_ для 3-х моделей и вычисление метрик качества\n",
    "5. перевод категориального признака в лучшую модель"
   ]
  },
  {
   "cell_type": "markdown",
   "metadata": {},
   "source": [
    "### Импорт библиотек машинного обучения"
   ]
  },
  {
   "cell_type": "code",
   "execution_count": 1,
   "metadata": {
    "tags": []
   },
   "outputs": [
    {
     "name": "stdout",
     "output_type": "stream",
     "text": [
      "Defaulting to user installation because normal site-packages is not writeable\n",
      "Requirement already satisfied: scikit-learn in /home/elijah/.local/lib/python3.10/site-packages (1.3.2)\n",
      "Requirement already satisfied: threadpoolctl>=2.0.0 in /usr/lib/python3/dist-packages (from scikit-learn) (3.1.0)\n",
      "Requirement already satisfied: scipy>=1.5.0 in /home/elijah/.local/lib/python3.10/site-packages (from scikit-learn) (1.11.4)\n",
      "Requirement already satisfied: joblib>=1.1.1 in /home/elijah/.local/lib/python3.10/site-packages (from scikit-learn) (1.3.2)\n",
      "Requirement already satisfied: numpy<2.0,>=1.17.3 in /home/elijah/.local/lib/python3.10/site-packages (from scikit-learn) (1.25.2)\n"
     ]
    }
   ],
   "source": [
    "!pip install scikit-learn\n",
    "!pip install shap -q\n",
    "!pip install explainerdashboard -q"
   ]
  },
  {
   "cell_type": "code",
   "execution_count": 2,
   "metadata": {
    "tags": []
   },
   "outputs": [],
   "source": [
    "import pandas as pd\n",
    "import numpy as np\n",
    "import matplotlib.pyplot as plt\n",
    "import scipy.stats as stats\n",
    "import sklearn\n",
    "from sklearn.model_selection import train_test_split\n",
    "from sklearn.naive_bayes import GaussianNB\n",
    "from sklearn.metrics import accuracy_score\n",
    "from sklearn.metrics import precision_score, recall_score\n",
    "from sklearn.neighbors import KNeighborsClassifier\n",
    "from sklearn.tree import DecisionTreeClassifier\n",
    "from sklearn.model_selection import GridSearchCV\n",
    "from sklearn.preprocessing import OneHotEncoder, MinMaxScaler\n",
    "from sklearn.compose import ColumnTransformer\n",
    "import shap\n",
    "from sklearn.inspection import permutation_importance as pi\n",
    "from explainerdashboard import ClassifierExplainer, ExplainerDashboard\n",
    "from sklearn.metrics import accuracy_score\n",
    "from sklearn.metrics import classification_report"
   ]
  },
  {
   "cell_type": "markdown",
   "metadata": {},
   "source": [
    "### Подготовка обучающего датасета\n",
    "Ранее был подготовлен датасет, предварительно очищенный от выбросов и аномальных значений. Однако на основе [матрицы корреляции для количественных признаков](#Матрицы-корреляции-для-количественных-признаков) можно сделать вывод об избыточности использования всех признаков очищенного датасета `data_cl`. Числовые признаки у нас делятся на две условные категории: габариты и масса. _Матрица корреляции Спирмена_ чётко демонстрирует сильную корреляцию между признаками `diameter` и `lenght` для габаритных показателей. А для показателей массы характерна сильная корреляция между признаком `whole_weight` (_масса целого моллюска в граммах_) и `shucked_weight` (_масса мяса в граммах_) / `viscera_weight` (_масса потрохов в граммах_). \n",
    "\n",
    "Ввиду этого принимаем решение в дальнейшем обучении использовать только признак `diameter` и признак `whole_weight` из перечня указанных. Остальные признаки оставим, как есть."
   ]
  },
  {
   "cell_type": "code",
   "execution_count": 3,
   "metadata": {},
   "outputs": [
    {
     "data": {
      "text/html": [
       "<div>\n",
       "<style scoped>\n",
       "    .dataframe tbody tr th:only-of-type {\n",
       "        vertical-align: middle;\n",
       "    }\n",
       "\n",
       "    .dataframe tbody tr th {\n",
       "        vertical-align: top;\n",
       "    }\n",
       "\n",
       "    .dataframe thead th {\n",
       "        text-align: right;\n",
       "    }\n",
       "</style>\n",
       "<table border=\"1\" class=\"dataframe\">\n",
       "  <thead>\n",
       "    <tr style=\"text-align: right;\">\n",
       "      <th></th>\n",
       "      <th>sex</th>\n",
       "      <th>length</th>\n",
       "      <th>diameter</th>\n",
       "      <th>height</th>\n",
       "      <th>whole_weight</th>\n",
       "      <th>shucked_weight</th>\n",
       "      <th>viscera_weight</th>\n",
       "      <th>shell_weight</th>\n",
       "      <th>rings</th>\n",
       "    </tr>\n",
       "  </thead>\n",
       "  <tbody>\n",
       "    <tr>\n",
       "      <th>0</th>\n",
       "      <td>M</td>\n",
       "      <td>0.455</td>\n",
       "      <td>0.365</td>\n",
       "      <td>0.095</td>\n",
       "      <td>0.5140</td>\n",
       "      <td>0.2245</td>\n",
       "      <td>0.1010</td>\n",
       "      <td>0.150</td>\n",
       "      <td>15</td>\n",
       "    </tr>\n",
       "    <tr>\n",
       "      <th>1</th>\n",
       "      <td>M</td>\n",
       "      <td>0.350</td>\n",
       "      <td>0.265</td>\n",
       "      <td>0.090</td>\n",
       "      <td>0.2255</td>\n",
       "      <td>0.0995</td>\n",
       "      <td>0.0485</td>\n",
       "      <td>0.070</td>\n",
       "      <td>7</td>\n",
       "    </tr>\n",
       "    <tr>\n",
       "      <th>2</th>\n",
       "      <td>F</td>\n",
       "      <td>0.530</td>\n",
       "      <td>0.420</td>\n",
       "      <td>0.135</td>\n",
       "      <td>0.6770</td>\n",
       "      <td>0.2565</td>\n",
       "      <td>0.1415</td>\n",
       "      <td>0.210</td>\n",
       "      <td>9</td>\n",
       "    </tr>\n",
       "    <tr>\n",
       "      <th>3</th>\n",
       "      <td>M</td>\n",
       "      <td>0.440</td>\n",
       "      <td>0.365</td>\n",
       "      <td>0.125</td>\n",
       "      <td>0.4410</td>\n",
       "      <td>0.2155</td>\n",
       "      <td>0.1140</td>\n",
       "      <td>0.155</td>\n",
       "      <td>10</td>\n",
       "    </tr>\n",
       "    <tr>\n",
       "      <th>4</th>\n",
       "      <td>I</td>\n",
       "      <td>0.330</td>\n",
       "      <td>0.255</td>\n",
       "      <td>0.080</td>\n",
       "      <td>0.2050</td>\n",
       "      <td>0.0895</td>\n",
       "      <td>0.0395</td>\n",
       "      <td>0.055</td>\n",
       "      <td>7</td>\n",
       "    </tr>\n",
       "  </tbody>\n",
       "</table>\n",
       "</div>"
      ],
      "text/plain": [
       "  sex  length  diameter  height  whole_weight  shucked_weight  viscera_weight  \\\n",
       "0   M   0.455     0.365   0.095        0.5140          0.2245          0.1010   \n",
       "1   M   0.350     0.265   0.090        0.2255          0.0995          0.0485   \n",
       "2   F   0.530     0.420   0.135        0.6770          0.2565          0.1415   \n",
       "3   M   0.440     0.365   0.125        0.4410          0.2155          0.1140   \n",
       "4   I   0.330     0.255   0.080        0.2050          0.0895          0.0395   \n",
       "\n",
       "   shell_weight  rings  \n",
       "0         0.150     15  \n",
       "1         0.070      7  \n",
       "2         0.210      9  \n",
       "3         0.155     10  \n",
       "4         0.055      7  "
      ]
     },
     "execution_count": 3,
     "metadata": {},
     "output_type": "execute_result"
    }
   ],
   "source": [
    "data_cl = pd.read_csv('abalone_cl.csv')\n",
    "data_cl.head()"
   ]
  },
  {
   "cell_type": "code",
   "execution_count": 4,
   "metadata": {
    "tags": []
   },
   "outputs": [],
   "source": [
    "# установка начального значения генератора случайных чисел в ходе обучения\n",
    "np.random.seed(42)"
   ]
  },
  {
   "cell_type": "code",
   "execution_count": 5,
   "metadata": {
    "tags": []
   },
   "outputs": [
    {
     "name": "stdout",
     "output_type": "stream",
     "text": [
      "<class 'pandas.core.frame.DataFrame'>\n",
      "RangeIndex: 4109 entries, 0 to 4108\n",
      "Data columns (total 9 columns):\n",
      " #   Column          Non-Null Count  Dtype  \n",
      "---  ------          --------------  -----  \n",
      " 0   sex             4109 non-null   object \n",
      " 1   length          4109 non-null   float64\n",
      " 2   diameter        4109 non-null   float64\n",
      " 3   height          4109 non-null   float64\n",
      " 4   whole_weight    4109 non-null   float64\n",
      " 5   shucked_weight  4109 non-null   float64\n",
      " 6   viscera_weight  4109 non-null   float64\n",
      " 7   shell_weight    4109 non-null   float64\n",
      " 8   rings           4109 non-null   int64  \n",
      "dtypes: float64(7), int64(1), object(1)\n",
      "memory usage: 289.0+ KB\n"
     ]
    }
   ],
   "source": [
    "data_cl.info()"
   ]
  },
  {
   "cell_type": "code",
   "execution_count": 6,
   "metadata": {
    "tags": []
   },
   "outputs": [],
   "source": [
    "# матрица признаков\n",
    "X = data_cl[['diameter', 'height', 'whole_weight', 'shell_weight']]\n",
    "\n",
    "# вектор целевых (таргетированных) признаков\n",
    "y = data_cl['rings']"
   ]
  },
  {
   "cell_type": "markdown",
   "metadata": {},
   "source": [
    "### Разбиение на возрастные группы\n",
    "Согласно докладу [СТРУКТУРА, СОВРЕМЕННОЕ СОСТОЯНИЕ И ПЕРСПЕКТИВЬI ВОСПРОИЗВОДСТВА ПОПУЛЯЦИИ ГАЛИОТИСА ОСТРОВА МОНЕРОН](http://aquacultura.org/upload/files/pdf/biblio/invert/Переладов_1999.pdf) можно сформировать деление галиотиса по группам плодонесения (принесения потомства). Так моллюск начинает плодоносить в возрасте 2-3 лет (крайнее число колец посчитаем в 4) и продолжает до 8-10 лет (15 колец). В этом возрасте он достигает половой зрелости и может производить потомство. Однако, в некоторых условиях, галиотис может жить более 20 лет.\n",
    "\n",
    "На основании выводов, сделанных в ходе анализа [графика плотности распределения колец раковин](#График-плотности-распределения-колец-раковин) можно разбить значения признака `rings` на классы по числу колец. Это будут группы:\n",
    "- до 4 колец включительно\n",
    "- от 5 до 15 колец включительно\n",
    "- от 15 колец и более\n",
    "\n",
    "При необходимости можно будет выполнить обучение для данных возрастных групп."
   ]
  },
  {
   "cell_type": "code",
   "execution_count": 7,
   "metadata": {
    "tags": []
   },
   "outputs": [
    {
     "name": "stdout",
     "output_type": "stream",
     "text": [
      "плодоносные      3786\n",
      "старые            250\n",
      "неплодоносные      73\n",
      "Name: rings, dtype: int64\n"
     ]
    }
   ],
   "source": [
    "# определение границ диапазонов\n",
    "bins = [0, 4, 15, 29]\n",
    "\n",
    "# определение меток для категорий\n",
    "labels = ['неплодоносные', 'плодоносные', 'старые']\n",
    "\n",
    "# группировка значений целевого признака по диапазонам\n",
    "y_class = pd.cut(y, bins=bins, labels=labels, ordered=False)\n",
    "\n",
    "# проверка результатов группировки\n",
    "print(y_class.value_counts())"
   ]
  },
  {
   "cell_type": "markdown",
   "metadata": {},
   "source": [
    "### Выделение выборок\n",
    "Поскольку изначально у нас отсутствует тестовая выборка, то выделим её из подготовленного датасета `data_cl` в отношении 1:3 к обучающей выборке."
   ]
  },
  {
   "cell_type": "code",
   "execution_count": 8,
   "metadata": {
    "tags": []
   },
   "outputs": [],
   "source": [
    "X_train, X_test, y_train, y_test = train_test_split(X, y_class, test_size=0.25)"
   ]
  },
  {
   "cell_type": "markdown",
   "metadata": {},
   "source": [
    "## Построение моделей на числовых признаках"
   ]
  },
  {
   "cell_type": "markdown",
   "metadata": {},
   "source": [
    "### Метод наивного Байеса (Naive Bayes)"
   ]
  },
  {
   "cell_type": "code",
   "execution_count": 9,
   "metadata": {
    "tags": []
   },
   "outputs": [
    {
     "name": "stdout",
     "output_type": "stream",
     "text": [
      "Метрика качества accurancy_score 0.7811284046692607\n",
      "Метрика качества precision_score 0.7811284046692607\n",
      "Метрика качества recall_score 0.7811284046692607\n"
     ]
    }
   ],
   "source": [
    "# определение модели\n",
    "nb = GaussianNB()\n",
    "\n",
    "# обучение модели\n",
    "nb.fit(X_train, y_train)\n",
    "\n",
    "# предсказание меток классов для тестовых данных\n",
    "y_pred = nb.predict(X_test)\n",
    "\n",
    "# расчёт метрик качества\n",
    "nb_accuracy_score = accuracy_score(y_test.values.ravel(), y_pred)\n",
    "nb_precision_score = precision_score(y_test.values.ravel(), y_pred, average='micro')\n",
    "nb_recall_score = recall_score(y_test.values.ravel(), y_pred, average='micro')\n",
    "\n",
    "print(\"Метрика качества accurancy_score\", nb_accuracy_score)\n",
    "print(\"Метрика качества precision_score\", nb_precision_score)\n",
    "print(\"Метрика качества recall_score\", nb_recall_score)"
   ]
  },
  {
   "cell_type": "markdown",
   "metadata": {},
   "source": [
    "### Метод ближайшего соседа (Nearest Neighbor)"
   ]
  },
  {
   "cell_type": "code",
   "execution_count": 10,
   "metadata": {
    "tags": []
   },
   "outputs": [
    {
     "name": "stdout",
     "output_type": "stream",
     "text": [
      "Метрика качества accurancy_score 0.9202334630350194\n",
      "Метрика качества precision_score 0.9202334630350194\n",
      "Метрика качества recall_score 0.9202334630350194\n"
     ]
    }
   ],
   "source": [
    "# определение модели\n",
    "knn = KNeighborsClassifier()\n",
    "\n",
    "# обучение модели\n",
    "knn.fit(X_train, y_train.values.ravel())\n",
    "\n",
    "# предсказание меток классов для тестовых данных\n",
    "y_pred_knn = knn.predict(X_test)\n",
    "\n",
    "# расчёт метрик качества\n",
    "knn_accuracy_score = accuracy_score(y_test.values.ravel(), y_pred_knn)\n",
    "knn_precision_score = precision_score(y_test, y_pred_knn, average='micro')\n",
    "knn_recall_score = recall_score(y_test, y_pred_knn, average='micro')\n",
    "\n",
    "print(\"Метрика качества accurancy_score\", knn_accuracy_score)\n",
    "print(\"Метрика качества precision_score\", knn_precision_score)\n",
    "print(\"Метрика качества recall_score\", knn_recall_score)"
   ]
  },
  {
   "cell_type": "markdown",
   "metadata": {},
   "source": [
    "### Метод дерева решений"
   ]
  },
  {
   "cell_type": "code",
   "execution_count": 11,
   "metadata": {
    "tags": []
   },
   "outputs": [
    {
     "name": "stdout",
     "output_type": "stream",
     "text": [
      "Метрика качества accurancy_score 0.8910505836575876\n",
      "Метрика качества precision_score 0.8910505836575876\n",
      "Метрика качества recall_score 0.8910505836575876\n"
     ]
    }
   ],
   "source": [
    "# определение модели\n",
    "dtc = DecisionTreeClassifier()\n",
    "\n",
    "# обучение модели\n",
    "dtc.fit(X_train, y_train)\n",
    "\n",
    "# предсказание меток классов для тестовых данных\n",
    "y_pred_dtc = dtc.predict(X_test)\n",
    "\n",
    "# расчёт метрик качества\n",
    "dtc_accuracy_score = accuracy_score(y_test.values.ravel(), y_pred_dtc)\n",
    "dtc_precision_score = precision_score(y_test, y_pred_dtc, average='micro')\n",
    "dtc_recall_score = recall_score(y_test, y_pred_dtc, average='micro')\n",
    "\n",
    "print(\"Метрика качества accurancy_score\", dtc_accuracy_score)\n",
    "print(\"Метрика качества precision_score\", dtc_precision_score)\n",
    "print(\"Метрика качества recall_score\", dtc_recall_score)"
   ]
  },
  {
   "cell_type": "markdown",
   "metadata": {},
   "source": [
    "По указанным результатам можно сделать несколько промежуточных выводов. Использованные метрики качества для всех трёх моделей машинного обучения возвращают одно значение. Стало быть, в дальнейшем ограничим использование метрики `accurancy_score`. Что касаемо результатов обучения, то для моделей (без подбора гиперпараметров) они низкие. К сожалению, у нас нет более точного представления о конечной цели, поэтому можно оперировать тем, что есть. Возможны следующие причины низкого качества предсказания:\n",
    "\n",
    "1. недостаточное количество данных для обучения моделей\n",
    "2. неправильный выбор модели (но у нас результат приблизительно одинаков для трёх разных моделей)\n",
    "3. неправильная предобработка данных"
   ]
  },
  {
   "cell_type": "markdown",
   "metadata": {},
   "source": [
    "## Подбор гиперпараметров каждой из моделей\n",
    "Выполним подбор гиперпараметров с помощью GridSearchCV."
   ]
  },
  {
   "cell_type": "markdown",
   "metadata": {},
   "source": [
    "### Метод наивного Байеса (Naive Bayes)"
   ]
  },
  {
   "cell_type": "code",
   "execution_count": 12,
   "metadata": {},
   "outputs": [
    {
     "name": "stdout",
     "output_type": "stream",
     "text": [
      "Fitting 3 folds for each of 100 candidates, totalling 300 fits\n",
      "\n",
      "Лучшее значение гиперпараметров {'var_smoothing': 0.15556761439304723}\n",
      "Лучшее значение метрики качества при указанных значениях гиперпараметров 0.9266471924699773\n",
      "\n",
      "Значение метрики качества на тестовой выборке: 0.9241245136186771\n",
      "\n",
      "CPU times: user 1.52 s, sys: 3.48 ms, total: 1.53 s\n",
      "Wall time: 1.53 s\n"
     ]
    }
   ],
   "source": [
    "%%time\n",
    "\n",
    "# Задаём модель\n",
    "model_nb = GaussianNB()\n",
    "\n",
    "# Задаем сетку параметров для подбора\n",
    "param_grid = {\n",
    "    'var_smoothing': np.logspace(-10, 0, num=100)\n",
    "             }\n",
    "\n",
    "# Создаем объект GridSearchCV\n",
    "gs = GridSearchCV(model_nb, param_grid, cv=3, scoring='accuracy', verbose=1)\n",
    "\n",
    "# Обучаем модель на обучающей выборке\n",
    "gs.fit(X_train, y_train)\n",
    "\n",
    "# Выводим лучшие параметры и значение метрики качества\n",
    "print()\n",
    "print(f'Лучшее значение гиперпараметров {gs.best_params_}')\n",
    "print(f'Лучшее значение метрики качества при указанных значениях гиперпараметров {gs.best_score_}')\n",
    "print()\n",
    "# Вычисляем точность на тестовой выборке\n",
    "pred = gs.best_estimator_.predict(X_test)\n",
    "accuracy = accuracy_score(y_test, pred)\n",
    "print('Значение метрики качества на тестовой выборке:', accuracy)\n",
    "print()"
   ]
  },
  {
   "cell_type": "markdown",
   "metadata": {},
   "source": [
    "### Метод ближайшего соседа (Nearest Neighbor)"
   ]
  },
  {
   "cell_type": "code",
   "execution_count": 13,
   "metadata": {
    "tags": []
   },
   "outputs": [
    {
     "name": "stdout",
     "output_type": "stream",
     "text": [
      "Fitting 5 folds for each of 32 candidates, totalling 160 fits\n",
      "\n",
      "Лучшее значение гиперпараметров {'n_neighbors': 7, 'p': 1, 'weights': 'uniform'}\n",
      "Лучшее значение метрики качества при указанных значениях гиперпараметров 0.9269712054558085\n",
      "\n",
      "Значение метрики качества на тестовой выборке: 0.9202334630350194\n",
      "\n",
      "CPU times: user 3.71 s, sys: 16.1 ms, total: 3.73 s\n",
      "Wall time: 3.72 s\n"
     ]
    }
   ],
   "source": [
    "%%time\n",
    "# Задаём модель\n",
    "model_knn = KNeighborsClassifier()\n",
    "\n",
    "# Задаем сетку параметров для подбора\n",
    "param_grid = {\n",
    "    'n_neighbors': [3, 5, 7, 9],\n",
    "    'weights': ['uniform', 'distance'],\n",
    "    'p': [1, 2, 3, 4]\n",
    "             }\n",
    "\n",
    "# Создаем объект GridSearchCV\n",
    "gs = GridSearchCV(model_knn, param_grid, cv=5, scoring='accuracy', verbose=1)\n",
    "\n",
    "# Обучаем модель на обучающей выборке\n",
    "gs.fit(X_train, y_train)\n",
    "\n",
    "print()\n",
    "print(f'Лучшее значение гиперпараметров {gs.best_params_}')\n",
    "print(f'Лучшее значение метрики качества при указанных значениях гиперпараметров {gs.best_score_}')\n",
    "print()\n",
    "pred = gs.best_estimator_.predict(X_test)\n",
    "accuracy = accuracy_score(y_test, pred)\n",
    "print('Значение метрики качества на тестовой выборке:', accuracy)\n",
    "print()"
   ]
  },
  {
   "cell_type": "markdown",
   "metadata": {},
   "source": [
    "### Метод дерева решений"
   ]
  },
  {
   "cell_type": "code",
   "execution_count": 14,
   "metadata": {
    "tags": []
   },
   "outputs": [
    {
     "name": "stdout",
     "output_type": "stream",
     "text": [
      "Fitting 5 folds for each of 216 candidates, totalling 1080 fits\n",
      "\n",
      "Лучшее значение гиперпараметров {'criterion': 'gini', 'max_depth': 5, 'max_features': 'sqrt', 'min_samples_leaf': 1, 'min_samples_split': 5}\n",
      "Лучшее значение метрики качества при указанных значениях гиперпараметров 0.9263223810225429\n",
      "\n",
      "Значение метрики качества на тестовой выборке: 0.9280155642023347\n",
      "\n",
      "CPU times: user 8.69 s, sys: 199 µs, total: 8.69 s\n",
      "Wall time: 8.7 s\n"
     ]
    }
   ],
   "source": [
    "%%time\n",
    "# Задаём модель\n",
    "model_dt = DecisionTreeClassifier()\n",
    "\n",
    "# Задаем сетку параметров для подбора\n",
    "param_grid = {\n",
    "    'criterion': ['gini', 'entropy'],\n",
    "    'max_depth': [None, 5, 10, 15],\n",
    "    'min_samples_split': [2, 5, 10],\n",
    "    'min_samples_leaf': [1, 2, 4],\n",
    "    'max_features': ['sqrt', 'log2', None]\n",
    "             }\n",
    "\n",
    "# Создаем объект GridSearchCV\n",
    "gs = GridSearchCV(model_dt, param_grid, cv=5, scoring='accuracy', verbose=1)\n",
    "\n",
    "# Обучаем модель на обучающей выборке\n",
    "gs.fit(X_train, y_train)\n",
    "\n",
    "print()\n",
    "print(f'Лучшее значение гиперпараметров {gs.best_params_}')\n",
    "print(f'Лучшее значение метрики качества при указанных значениях гиперпараметров {gs.best_score_}')\n",
    "print()\n",
    "pred = gs.best_estimator_.predict(X_test)\n",
    "accuracy = accuracy_score(y_test, pred)\n",
    "print('Значение метрики качества на тестовой выборке:', accuracy)\n",
    "print()"
   ]
  },
  {
   "cell_type": "markdown",
   "metadata": {},
   "source": [
    "Как и ожидалось, после подбора гиперпараметров для каждой из трёх моделей возвращаются более высокие значения метрик качества, при этом эти значения всё равно низкие. Выделить из результатов наиболее привлекательные достаточно сложно. "
   ]
  },
  {
   "cell_type": "markdown",
   "metadata": {},
   "source": [
    "## Добавление категориальных признаков в лучшую модель\n",
    "Выбрать модель с лучшими значениями метрики качества достаточно сложно, поскольку результаты везде практически идентичны. Они немногим лучше для метода дерева решений. Так что далее использовать будем эту модель.\n",
    "В целом для чего нужно переводить единственный категориальный признак в количественный также не понял. Ну раз надо, тогда сделаем. Однако далее будет видно, что это даёт ещё более бессмысленные результаты, чем обучение моделей."
   ]
  },
  {
   "cell_type": "code",
   "execution_count": 15,
   "metadata": {},
   "outputs": [
    {
     "name": "stdout",
     "output_type": "stream",
     "text": [
      "<class 'pandas.core.frame.DataFrame'>\n",
      "RangeIndex: 4109 entries, 0 to 4108\n",
      "Data columns (total 8 columns):\n",
      " #   Column          Non-Null Count  Dtype  \n",
      "---  ------          --------------  -----  \n",
      " 0   sex             4109 non-null   object \n",
      " 1   length          4109 non-null   float64\n",
      " 2   diameter        4109 non-null   float64\n",
      " 3   height          4109 non-null   float64\n",
      " 4   whole_weight    4109 non-null   float64\n",
      " 5   shucked_weight  4109 non-null   float64\n",
      " 6   viscera_weight  4109 non-null   float64\n",
      " 7   shell_weight    4109 non-null   float64\n",
      "dtypes: float64(7), object(1)\n",
      "memory usage: 256.9+ KB\n"
     ]
    }
   ],
   "source": [
    "X_full = data_cl.drop('rings', axis=1)\n",
    "\n",
    "X_train_full, X_test_full, y_train_full, y_test_full = train_test_split(X_full, y_class, test_size=0.25)\n",
    "\n",
    "X_full.info()"
   ]
  },
  {
   "cell_type": "code",
   "execution_count": 16,
   "metadata": {},
   "outputs": [],
   "source": [
    "# выделяем категориальный признак\n",
    "categorical = ['sex']\n",
    "\n",
    "# количественные признаки\n",
    "numeric_features = ['length', 'diameter', 'height', 'whole_weight', 'shucked_weight', 'viscera_weight', 'shell_weight']\n",
    "\n",
    "ct = ColumnTransformer([\n",
    "    ('ohe', OneHotEncoder(handle_unknown=\"ignore\"), categorical),\n",
    "    ('scaling', MinMaxScaler(), numeric_features)\n",
    "])\n",
    "\n",
    "X_train_transformed = ct.fit_transform(X_train_full)\n",
    "X_test_transformed = ct.transform(X_test_full)"
   ]
  },
  {
   "cell_type": "code",
   "execution_count": 17,
   "metadata": {},
   "outputs": [
    {
     "name": "stdout",
     "output_type": "stream",
     "text": [
      "Всего количественных признаков: ['sex_F', 'sex_I', 'sex_M', 'length', 'diameter', 'height', 'whole_weight', 'shucked_weight', 'viscera_weight', 'shell_weight']\n"
     ]
    }
   ],
   "source": [
    "new_features = list(ct.named_transformers_['ohe'].get_feature_names_out())\n",
    "new_features.extend(numeric_features)\n",
    "\n",
    "print('Всего количественных признаков:', new_features)"
   ]
  },
  {
   "cell_type": "code",
   "execution_count": 18,
   "metadata": {},
   "outputs": [
    {
     "data": {
      "text/html": [
       "<div>\n",
       "<style scoped>\n",
       "    .dataframe tbody tr th:only-of-type {\n",
       "        vertical-align: middle;\n",
       "    }\n",
       "\n",
       "    .dataframe tbody tr th {\n",
       "        vertical-align: top;\n",
       "    }\n",
       "\n",
       "    .dataframe thead th {\n",
       "        text-align: right;\n",
       "    }\n",
       "</style>\n",
       "<table border=\"1\" class=\"dataframe\">\n",
       "  <thead>\n",
       "    <tr style=\"text-align: right;\">\n",
       "      <th></th>\n",
       "      <th>sex_F</th>\n",
       "      <th>sex_I</th>\n",
       "      <th>sex_M</th>\n",
       "      <th>length</th>\n",
       "      <th>diameter</th>\n",
       "      <th>height</th>\n",
       "      <th>whole_weight</th>\n",
       "      <th>shucked_weight</th>\n",
       "      <th>viscera_weight</th>\n",
       "      <th>shell_weight</th>\n",
       "    </tr>\n",
       "  </thead>\n",
       "  <tbody>\n",
       "    <tr>\n",
       "      <th>0</th>\n",
       "      <td>1.0</td>\n",
       "      <td>0.0</td>\n",
       "      <td>0.0</td>\n",
       "      <td>0.691729</td>\n",
       "      <td>0.679612</td>\n",
       "      <td>0.50</td>\n",
       "      <td>0.344939</td>\n",
       "      <td>0.270671</td>\n",
       "      <td>0.299391</td>\n",
       "      <td>0.266467</td>\n",
       "    </tr>\n",
       "    <tr>\n",
       "      <th>1</th>\n",
       "      <td>0.0</td>\n",
       "      <td>0.0</td>\n",
       "      <td>1.0</td>\n",
       "      <td>0.631579</td>\n",
       "      <td>0.650485</td>\n",
       "      <td>0.44</td>\n",
       "      <td>0.294224</td>\n",
       "      <td>0.173897</td>\n",
       "      <td>0.279373</td>\n",
       "      <td>0.291417</td>\n",
       "    </tr>\n",
       "    <tr>\n",
       "      <th>2</th>\n",
       "      <td>0.0</td>\n",
       "      <td>1.0</td>\n",
       "      <td>0.0</td>\n",
       "      <td>0.383459</td>\n",
       "      <td>0.349515</td>\n",
       "      <td>0.34</td>\n",
       "      <td>0.076072</td>\n",
       "      <td>0.058584</td>\n",
       "      <td>0.055701</td>\n",
       "      <td>0.061876</td>\n",
       "    </tr>\n",
       "    <tr>\n",
       "      <th>3</th>\n",
       "      <td>1.0</td>\n",
       "      <td>0.0</td>\n",
       "      <td>0.0</td>\n",
       "      <td>0.857143</td>\n",
       "      <td>0.893204</td>\n",
       "      <td>0.76</td>\n",
       "      <td>0.724089</td>\n",
       "      <td>0.608083</td>\n",
       "      <td>0.635335</td>\n",
       "      <td>0.510978</td>\n",
       "    </tr>\n",
       "    <tr>\n",
       "      <th>4</th>\n",
       "      <td>1.0</td>\n",
       "      <td>0.0</td>\n",
       "      <td>0.0</td>\n",
       "      <td>0.616541</td>\n",
       "      <td>0.611650</td>\n",
       "      <td>0.56</td>\n",
       "      <td>0.275106</td>\n",
       "      <td>0.202818</td>\n",
       "      <td>0.237598</td>\n",
       "      <td>0.211577</td>\n",
       "    </tr>\n",
       "  </tbody>\n",
       "</table>\n",
       "</div>"
      ],
      "text/plain": [
       "   sex_F  sex_I  sex_M    length  diameter  height  whole_weight  \\\n",
       "0    1.0    0.0    0.0  0.691729  0.679612    0.50      0.344939   \n",
       "1    0.0    0.0    1.0  0.631579  0.650485    0.44      0.294224   \n",
       "2    0.0    1.0    0.0  0.383459  0.349515    0.34      0.076072   \n",
       "3    1.0    0.0    0.0  0.857143  0.893204    0.76      0.724089   \n",
       "4    1.0    0.0    0.0  0.616541  0.611650    0.56      0.275106   \n",
       "\n",
       "   shucked_weight  viscera_weight  shell_weight  \n",
       "0        0.270671        0.299391      0.266467  \n",
       "1        0.173897        0.279373      0.291417  \n",
       "2        0.058584        0.055701      0.061876  \n",
       "3        0.608083        0.635335      0.510978  \n",
       "4        0.202818        0.237598      0.211577  "
      ]
     },
     "execution_count": 18,
     "metadata": {},
     "output_type": "execute_result"
    }
   ],
   "source": [
    "X_train_transformed = pd.DataFrame(X_train_transformed, columns=new_features)\n",
    "X_test_transformed = pd.DataFrame(X_test_transformed, columns=new_features)\n",
    "\n",
    "X_train_transformed.head()"
   ]
  },
  {
   "cell_type": "code",
   "execution_count": 19,
   "metadata": {},
   "outputs": [
    {
     "name": "stdout",
     "output_type": "stream",
     "text": [
      "Fitting 5 folds for each of 216 candidates, totalling 1080 fits\n",
      "\n",
      "Лучшее значение гиперпараметров {'criterion': 'gini', 'max_depth': 5, 'max_features': None, 'min_samples_leaf': 4, 'min_samples_split': 5}\n",
      "Лучшее значение метрики качества при указанных значениях гиперпараметров 0.9315166600012628\n",
      "\n",
      "Значение метрики качества на тестовой выборке: 0.9163424124513618\n",
      "\n",
      "CPU times: user 10.5 s, sys: 7.47 ms, total: 10.5 s\n",
      "Wall time: 10.5 s\n"
     ]
    }
   ],
   "source": [
    "%%time\n",
    "# Задаём модель\n",
    "model_dt = DecisionTreeClassifier()\n",
    "\n",
    "# Задаем сетку параметров для подбора\n",
    "params = {\n",
    "    'criterion': ['gini', 'entropy'],\n",
    "    'max_depth': [None, 5, 10, 15],\n",
    "    'min_samples_split': [2, 5, 10],\n",
    "    'min_samples_leaf': [1, 2, 4],\n",
    "    'max_features': ['sqrt', 'log2', None]\n",
    "             }\n",
    "\n",
    "# Создаем объект GridSearchCV\n",
    "gsb = GridSearchCV(model_dt, params, cv=5, scoring='accuracy', verbose=1)\n",
    "\n",
    "# Обучаем модель на обучающей выборке\n",
    "gsb.fit(X_train_transformed, y_train_full)\n",
    "\n",
    "print()\n",
    "print(f'Лучшее значение гиперпараметров {gsb.best_params_}')\n",
    "print(f'Лучшее значение метрики качества при указанных значениях гиперпараметров {gsb.best_score_}')\n",
    "print()\n",
    "# Вычисляем точность на тестовой выборке\n",
    "pred_best = gsb.best_estimator_.predict(X_test_transformed)\n",
    "accuracy_best = accuracy_score(y_test_full, pred_best)\n",
    "print('Значение метрики качества на тестовой выборке:', accuracy_best)\n",
    "print()"
   ]
  },
  {
   "cell_type": "markdown",
   "metadata": {},
   "source": [
    "## Построение _Explainer Dashboard_\n",
    "### Permutation Importance"
   ]
  },
  {
   "cell_type": "code",
   "execution_count": 20,
   "metadata": {},
   "outputs": [
    {
     "data": {
      "text/plain": [
       "(3081, 10)"
      ]
     },
     "execution_count": 20,
     "metadata": {},
     "output_type": "execute_result"
    }
   ],
   "source": [
    "X_train_transformed.shape"
   ]
  },
  {
   "cell_type": "code",
   "execution_count": 21,
   "metadata": {},
   "outputs": [
    {
     "data": {
      "text/plain": [
       "Text(0.5, 0, 'Permutation Importance')"
      ]
     },
     "execution_count": 21,
     "metadata": {},
     "output_type": "execute_result"
    },
    {
     "data": {
      "image/png": "[encoded data removed]",
      "text/plain": [
       "<Figure size 2000x1000 with 1 Axes>"
      ]
     },
     "metadata": {},
     "output_type": "display_data"
    }
   ],
   "source": [
    "plt.figure(figsize=(20,10))\n",
    "result = pi(\n",
    "    gsb.best_estimator_, \n",
    "    X_train_transformed, \n",
    "    y_train_full, \n",
    "    n_repeats=10, \n",
    "    random_state=0\n",
    "                               )\n",
    "sorted_idx = result.importances_mean.argsort()\n",
    "plt.barh(\n",
    "    X_train_transformed.columns[sorted_idx], \n",
    "    result.importances_mean[sorted_idx]\n",
    "        )\n",
    "plt.xlabel(\"Permutation Importance\")"
   ]
  },
  {
   "cell_type": "markdown",
   "metadata": {},
   "source": [
    "Из получившейся диаграммы видно, что наиболее важным признаком для модели является `shell_weight`, так как его значение Permutation Importance значительно больше, чем у остальных признаков. Остальные признаки имеют промежуточную важность для модели. Эта информация может быть полезна для дальнейшего улучшения модели путем удаления неважных признаков или добавления новых."
   ]
  },
  {
   "cell_type": "markdown",
   "metadata": {},
   "source": [
    "### Shapley values"
   ]
  },
  {
   "cell_type": "code",
   "execution_count": 22,
   "metadata": {},
   "outputs": [
    {
     "data": {
      "text/plain": [
       "(3081, 10)"
      ]
     },
     "execution_count": 22,
     "metadata": {},
     "output_type": "execute_result"
    }
   ],
   "source": [
    "X_train_transformed.shape"
   ]
  },
  {
   "cell_type": "code",
   "execution_count": 23,
   "metadata": {},
   "outputs": [
    {
     "name": "stderr",
     "output_type": "stream",
     "text": [
      "Using 3081 background data samples could cause slower run times. Consider using shap.sample(data, K) or shap.kmeans(data, K) to summarize the background as K samples.\n"
     ]
    },
    {
     "data": {
      "application/json": {
       "ascii": false,
       "bar_format": null,
       "colour": null,
       "elapsed": 0.005778312683105469,
       "initial": 0,
       "n": 0,
       "ncols": null,
       "nrows": 24,
       "postfix": null,
       "prefix": "",
       "rate": null,
       "total": 10,
       "unit": "it",
       "unit_divisor": 1000,
       "unit_scale": false
      },
      "application/vnd.jupyter.widget-view+json": {
       "model_id": "128ab86e769b4db9b84bc6e2bb144bd6",
       "version_major": 2,
       "version_minor": 0
      },
      "text/plain": [
       "  0%|          | 0/10 [00:00<?, ?it/s]"
      ]
     },
     "metadata": {},
     "output_type": "display_data"
    },
    {
     "data": {
      "image/png": "[encoded data removed]",
      "text/plain": [
       "<Figure size 800x550 with 1 Axes>"
      ]
     },
     "metadata": {},
     "output_type": "display_data"
    }
   ],
   "source": [
    "# Создаем экземпляр модели с лучшими гиперпараметрами\n",
    "model_best_dt = gsb.best_estimator_\n",
    "\n",
    "# Обучаем модель на полном тренировочном наборе данных\n",
    "model_best_dt.fit(X_train_transformed, y_train_full)\n",
    "\n",
    "# Создаем объект explainer для вычисления Shapley Values\n",
    "explainer = shap.KernelExplainer(model_best_dt.predict_proba, X_train_transformed)\n",
    "\n",
    "# Вычисляем Shapley Values для всех объектов из тестовой выборки\n",
    "shap_values = explainer.shap_values(X_test_transformed.iloc[:10,:])\n",
    "\n",
    "# Визуализируем результаты\n",
    "shap.summary_plot(shap_values, X_test_transformed.iloc[:10,:])"
   ]
  },
  {
   "cell_type": "markdown",
   "metadata": {},
   "source": [
    "Если честно, пока пытался подобрать нормальные метрики моделей, уже позабыл, что это за показатель такой shapley values, так что мне сложно интерпретировать данный график."
   ]
  },
  {
   "cell_type": "markdown",
   "metadata": {},
   "source": [
    "## Анализ модели в _Explainer Dashboard_"
   ]
  },
  {
   "cell_type": "code",
   "execution_count": 24,
   "metadata": {},
   "outputs": [],
   "source": [
    "# преобразовываем категориальные значения целевого признака в числовые\n",
    "y_test_encoded, y_test_categories = pd.factorize(y_test_full)"
   ]
  },
  {
   "cell_type": "code",
   "execution_count": 25,
   "metadata": {},
   "outputs": [
    {
     "name": "stdout",
     "output_type": "stream",
     "text": [
      "Note: model_output=='probability', so assuming that raw shap output of DecisionTreeClassifier is in probability space...\n",
      "Generating self.shap_explainer = shap.TreeExplainer(model)\n"
     ]
    }
   ],
   "source": [
    "forest_explainer = ClassifierExplainer(gsb.best_estimator_, X_test_transformed, y_test_encoded)"
   ]
  },
  {
   "cell_type": "markdown",
   "metadata": {},
   "source": [
    "В общем-то дашборд не строится, куча ошибок. Ошибка `Recall is ill-defined and being set to 0.0 due to no true samples` возникает, когда в тестовой выборке отсутствуют объекты с определенным классом. Чтобы избежать этой ошибки, необходимо убедиться, что в тестовой выборке присутствуют объекты всех классов.\n",
    "\n",
    "Ошибка `ValueError: Only one class present in y_true. ROC AUC score is not defined in that case`. возникает, когда в тестовой выборке присутствует только один класс. Чтобы избежать этой ошибки, необходимо убедиться, что в обучающей выборке присутствуют объекты всех классов. Но у нас изначально был всего один категориальный признак, следовательно сложно представить, что ещё нужно сделать."
   ]
  },
  {
   "cell_type": "code",
   "execution_count": 26,
   "metadata": {},
   "outputs": [
    {
     "name": "stdout",
     "output_type": "stream",
     "text": [
      "Building ExplainerDashboard..\n",
      "WARNING: the number of idxs (=1028) > max_idxs_in_dropdown(=1000). However with your installed version of dash(2.14.2) dropdown search may not work smoothly. You can downgrade to `pip install dash==2.6.2` which should work better for now...\n",
      "Detected notebook environment, consider setting mode='external', mode='inline' or mode='jupyterlab' to keep the notebook interactive while the dashboard is running...\n",
      "The explainer object has no decision_trees property. so setting decision_trees=False...\n",
      "Warning: calculating shap interaction values can be slow! Pass shap_interaction=False to remove interactions tab.\n",
      "Generating layout...\n",
      "Calculating shap values...\n",
      "Calculating prediction probabilities...\n",
      "Calculating metrics...\n",
      "Calculating confusion matrices...\n",
      "Calculating classification_dfs...\n",
      "Calculating roc auc curves...\n",
      "Calculating pr auc curves...\n",
      "Calculating liftcurve_dfs...\n",
      "Calculating shap interaction values... (this may take a while)\n",
      "Reminder: TreeShap computational complexity is O(TLD^2), where T is the number of trees, L is the maximum number of leaves in any tree and D the maximal depth of any tree. So reducing these will speed up the calculation.\n",
      "Calculating dependencies...\n",
      "Calculating permutation importances (if slow, try setting n_jobs parameter)...\n",
      "Calculating pred_percentiles...\n",
      "Calculating predictions...\n",
      "Reminder: you can store the explainer (including calculated dependencies) with explainer.dump('explainer.joblib') and reload with e.g. ClassifierExplainer.from_file('explainer.joblib')\n",
      "Registering callbacks...\n"
     ]
    }
   ],
   "source": [
    "db = ExplainerDashboard(forest_explainer)"
   ]
  },
  {
   "cell_type": "code",
   "execution_count": 27,
   "metadata": {},
   "outputs": [
    {
     "name": "stdout",
     "output_type": "stream",
     "text": [
      "               precision    recall  f1-score   support\n",
      "\n",
      "неплодоносные       0.00      0.00      1.00        18\n",
      "  плодоносные       0.92      0.78      0.84       944\n",
      "       старые       0.04      0.11      0.06        66\n",
      "\n",
      "     accuracy                           0.72      1028\n",
      "    macro avg       0.32      0.29      0.63      1028\n",
      " weighted avg       0.84      0.72      0.79      1028\n",
      "\n"
     ]
    }
   ],
   "source": [
    "report = classification_report(y_test_full, y_pred, zero_division=1.0)\n",
    "print(report)"
   ]
  },
  {
   "cell_type": "code",
   "execution_count": 28,
   "metadata": {
    "tags": []
   },
   "outputs": [
    {
     "name": "stdout",
     "output_type": "stream",
     "text": [
      "Starting ExplainerDashboard on http://10.0.30.107:8050\n"
     ]
    },
    {
     "data": {
      "text/html": [
       "\n",
       "        <iframe\n",
       "            width=\"100%\"\n",
       "            height=\"650\"\n",
       "            src=\"http://0.0.0.0:8050/\"\n",
       "            frameborder=\"0\"\n",
       "            allowfullscreen\n",
       "            \n",
       "        ></iframe>\n",
       "        "
      ],
      "text/plain": [
       "<IPython.lib.display.IFrame at 0x7fb888166ce0>"
      ]
     },
     "metadata": {},
     "output_type": "display_data"
    }
   ],
   "source": [
    "db.run()"
   ]
  }
 ],
 "metadata": {
  "colab": {
   "provenance": [],
   "toc_visible": true
  },
  "kernelspec": {
   "display_name": "Python 3 (ipykernel)",
   "language": "python",
   "name": "python3"
  },
  "language_info": {
   "codemirror_mode": {
    "name": "ipython",
    "version": 3
   },
   "file_extension": ".py",
   "mimetype": "text/x-python",
   "name": "python",
   "nbconvert_exporter": "python",
   "pygments_lexer": "ipython3",
   "version": "3.10.12"
  }
 },
 "nbformat": 4,
 "nbformat_minor": 4
}
