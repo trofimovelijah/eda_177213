{
 "cells": [
  {
   "cell_type": "markdown",
   "metadata": {
    "id": "qwK71jXUWC8P"
   },
   "source": [
    "# Описание проекта\n",
    "По представленным данным необходимо провести исследовательский анализ предсказания возраста моллюска `галиотиса` (он же *морское ушко*). Необходимо провести однофакторный анализ, построить матрицу корреляций и пр. Также необходимо в ходе выполнения проекта использовать разные библиотеки обработки данных для сравнения скорости их работы."
   ]
  },
  {
   "cell_type": "markdown",
   "metadata": {
    "id": "Fd1fiVCoVVW9"
   },
   "source": [
    "# Порядок и критерии успешной реализации проекта\n",
    "\n",
    "В рамках проекта необходимо реализовать следующие пункты:\n",
    "1.  [Общее исследование данных](#Общее-исследование-данных) (**1 балл**):\n",
    "  * проверить размеры таблицы,\n",
    "  * число столбцов,\n",
    "  * количество пропусков в столбцах.\n",
    "2.  [Однофакторный анализ](#Однофакторный-анализ) (**3 балла**):\n",
    "  * по каждому столбцу посмотреть его распределение,\n",
    "  * если есть пропуски и ошибочные значения - обработать их,\n",
    "  * посмотреть связь с целевой переменной .\n",
    "3.  [Построить матрицу корреляций](#Построение-матрицы-корреляций) (или ее аналог для категориальных признаков)  (**2 балла**):\n",
    "  * использовать корреляции,\n",
    "  * тест `χ2χ2`,\n",
    "  * `ANOVA`.\n",
    "4.  [Провести анализ целевой переменной](#Анализ-целевой-переменной) (**1 балл**):\n",
    "  * на какое распределение больше всего похожа ее гистограмма?\n",
    "  * какие проблемы в связи с этим могут возникнуть при обучении моделей?\n",
    "5.  Увеличить размер данных простым дублированием до *1_000_000* строк в датасете. Провести [сравнение скорости работы](#Сравнение-библиотек) `Pandas` и `Polars` на увеличенном датасете по параметрам:\n",
    "  * загрузка данных (**1 балл**)\n",
    "  * фильтрация данных (**1 балл**)\n",
    "  * агрегация данных (**1 балл**).\n"
   ]
  },
  {
   "cell_type": "markdown",
   "metadata": {
    "id": "lqYz1yVYV8wp"
   },
   "source": [
    "# Исходные данные\n",
    "\n",
    "Предскажите возраст морского ушка по физическим измерениям\n",
    "\n",
    "* `Sex` - пол моллюска - номинальный - `M`, `F` и `I` (*infant*)\n",
    "\n",
    "* `Lenght` - измерение длины раковины в мм - непрерывная\n",
    "\n",
    "* `Diameter` - диаметр (перпендикулярно длине) в мм - непрерывный\n",
    "\n",
    "* `Height` - высота (с мясом в раковине) в мм - непрерывная\n",
    "\n",
    "* `Whole weight` - вес целого моллюска в граммах - непрерывный\n",
    "\n",
    "* `Shucked weight` - вес очищенного моллюска (мясо) в граммах - непрерывный\n",
    "\n",
    "* `Viscera weight` - вес потрохов (после обескровливания) в граммах - непрерывный\n",
    "\n",
    "* `Shell weight` - вес скорлупы (вес моллюска после высушивания) в граммах - непрерывный\n",
    "\n",
    "* `Rings` - кольца (+1.5 дает возраст в годах) - целое число - целевой признак"
   ]
  },
  {
   "cell_type": "markdown",
   "metadata": {
    "id": "KqD6I9cBWR46"
   },
   "source": [
    "# Выполнение проекта\n",
    "## Общее исследование данных\n",
    "Выполним общее исследование данных согласно плану"
   ]
  },
  {
   "cell_type": "markdown",
   "metadata": {
    "id": "oYMlQvsdWVai"
   },
   "source": [
    "### Импорт библиотек\n",
    "Вначале выполним импорт библиотек, используемых в рамках проекта"
   ]
  },
  {
   "cell_type": "code",
   "execution_count": 1,
   "metadata": {
    "id": "WPSIb94Jcb2a"
   },
   "outputs": [
    {
     "name": "stderr",
     "output_type": "stream",
     "text": [
      "/usr/lib/python3/dist-packages/scipy/__init__.py:146: UserWarning: A NumPy version >=1.17.3 and <1.25.0 is required for this version of SciPy (detected version 1.25.2\n",
      "  warnings.warn(f\"A NumPy version >={np_minversion} and <{np_maxversion}\"\n"
     ]
    }
   ],
   "source": [
    "import numpy as np\n",
    "import pandas as pd\n",
    "import matplotlib.pyplot as plt\n",
    "import seaborn as sns"
   ]
  },
  {
   "cell_type": "markdown",
   "metadata": {
    "id": "EmsSwPs7Wfyv"
   },
   "source": [
    "### Открытие датасета\n",
    "Откроем датасет и просмотрим первые строки"
   ]
  },
  {
   "cell_type": "code",
   "execution_count": 2,
   "metadata": {
    "id": "pOQGgAYRWieC"
   },
   "outputs": [
    {
     "data": {
      "text/html": [
       "<div>\n",
       "<style scoped>\n",
       "    .dataframe tbody tr th:only-of-type {\n",
       "        vertical-align: middle;\n",
       "    }\n",
       "\n",
       "    .dataframe tbody tr th {\n",
       "        vertical-align: top;\n",
       "    }\n",
       "\n",
       "    .dataframe thead th {\n",
       "        text-align: right;\n",
       "    }\n",
       "</style>\n",
       "<table border=\"1\" class=\"dataframe\">\n",
       "  <thead>\n",
       "    <tr style=\"text-align: right;\">\n",
       "      <th></th>\n",
       "      <th>Sex</th>\n",
       "      <th>Length</th>\n",
       "      <th>Diameter</th>\n",
       "      <th>Height</th>\n",
       "      <th>Whole weight</th>\n",
       "      <th>Shucked weight</th>\n",
       "      <th>Viscera weight</th>\n",
       "      <th>Shell weight</th>\n",
       "      <th>Rings</th>\n",
       "    </tr>\n",
       "  </thead>\n",
       "  <tbody>\n",
       "    <tr>\n",
       "      <th>0</th>\n",
       "      <td>M</td>\n",
       "      <td>0.455</td>\n",
       "      <td>0.365</td>\n",
       "      <td>0.095</td>\n",
       "      <td>0.5140</td>\n",
       "      <td>0.2245</td>\n",
       "      <td>0.1010</td>\n",
       "      <td>0.150</td>\n",
       "      <td>15</td>\n",
       "    </tr>\n",
       "    <tr>\n",
       "      <th>1</th>\n",
       "      <td>M</td>\n",
       "      <td>0.350</td>\n",
       "      <td>0.265</td>\n",
       "      <td>0.090</td>\n",
       "      <td>0.2255</td>\n",
       "      <td>0.0995</td>\n",
       "      <td>0.0485</td>\n",
       "      <td>0.070</td>\n",
       "      <td>7</td>\n",
       "    </tr>\n",
       "    <tr>\n",
       "      <th>2</th>\n",
       "      <td>F</td>\n",
       "      <td>0.530</td>\n",
       "      <td>0.420</td>\n",
       "      <td>0.135</td>\n",
       "      <td>0.6770</td>\n",
       "      <td>0.2565</td>\n",
       "      <td>0.1415</td>\n",
       "      <td>0.210</td>\n",
       "      <td>9</td>\n",
       "    </tr>\n",
       "    <tr>\n",
       "      <th>3</th>\n",
       "      <td>M</td>\n",
       "      <td>0.440</td>\n",
       "      <td>0.365</td>\n",
       "      <td>0.125</td>\n",
       "      <td>NaN</td>\n",
       "      <td>0.2155</td>\n",
       "      <td>0.1140</td>\n",
       "      <td>0.155</td>\n",
       "      <td>10</td>\n",
       "    </tr>\n",
       "    <tr>\n",
       "      <th>4</th>\n",
       "      <td>I</td>\n",
       "      <td>0.330</td>\n",
       "      <td>0.255</td>\n",
       "      <td>0.080</td>\n",
       "      <td>0.2050</td>\n",
       "      <td>0.0895</td>\n",
       "      <td>0.0395</td>\n",
       "      <td>0.055</td>\n",
       "      <td>7</td>\n",
       "    </tr>\n",
       "  </tbody>\n",
       "</table>\n",
       "</div>"
      ],
      "text/plain": [
       "  Sex  Length  Diameter  Height  Whole weight  Shucked weight  Viscera weight  \\\n",
       "0   M   0.455     0.365   0.095        0.5140          0.2245          0.1010   \n",
       "1   M   0.350     0.265   0.090        0.2255          0.0995          0.0485   \n",
       "2   F   0.530     0.420   0.135        0.6770          0.2565          0.1415   \n",
       "3   M   0.440     0.365   0.125           NaN          0.2155          0.1140   \n",
       "4   I   0.330     0.255   0.080        0.2050          0.0895          0.0395   \n",
       "\n",
       "   Shell weight  Rings  \n",
       "0         0.150     15  \n",
       "1         0.070      7  \n",
       "2         0.210      9  \n",
       "3         0.155     10  \n",
       "4         0.055      7  "
      ]
     },
     "execution_count": 2,
     "metadata": {},
     "output_type": "execute_result"
    }
   ],
   "source": [
    "abalone_url = 'https://raw.githubusercontent.com/aiedu-courses/stepik_eda_and_dev_tools/main/datasets/abalone.csv'\n",
    "df = pd.read_csv(abalone_url)\n",
    "df.head()"
   ]
  },
  {
   "cell_type": "markdown",
   "metadata": {},
   "source": [
    "Уже по первым пяти строкам видно, что в датасете присутствуют пропуски. \n",
    "\n",
    "Подсчитаем, сколько в датасете строк и столбцов, а также какие типы данных у признаков."
   ]
  },
  {
   "cell_type": "code",
   "execution_count": 3,
   "metadata": {},
   "outputs": [
    {
     "name": "stdout",
     "output_type": "stream",
     "text": [
      "<class 'pandas.core.frame.DataFrame'>\n",
      "RangeIndex: 4177 entries, 0 to 4176\n",
      "Data columns (total 9 columns):\n",
      " #   Column          Non-Null Count  Dtype  \n",
      "---  ------          --------------  -----  \n",
      " 0   Sex             4177 non-null   object \n",
      " 1   Length          4177 non-null   float64\n",
      " 2   Diameter        4078 non-null   float64\n",
      " 3   Height          4177 non-null   float64\n",
      " 4   Whole weight    4078 non-null   float64\n",
      " 5   Shucked weight  4177 non-null   float64\n",
      " 6   Viscera weight  4177 non-null   float64\n",
      " 7   Shell weight    4127 non-null   float64\n",
      " 8   Rings           4177 non-null   int64  \n",
      "dtypes: float64(7), int64(1), object(1)\n",
      "memory usage: 293.8+ KB\n"
     ]
    }
   ],
   "source": [
    "df.info()"
   ]
  },
  {
   "cell_type": "code",
   "execution_count": 4,
   "metadata": {},
   "outputs": [
    {
     "data": {
      "text/plain": [
       "(4177, 9)"
      ]
     },
     "execution_count": 4,
     "metadata": {},
     "output_type": "execute_result"
    }
   ],
   "source": [
    "df.shape"
   ]
  },
  {
   "cell_type": "markdown",
   "metadata": {},
   "source": [
    "Как видно, датасет содержит немногим более 4К строк (достаточно немного) и 9 столбцов-признаков, как и обозначено в разделе [Исходные данные](#Исходные-данные). У всех признаков, кроме двух, тип данных float64, т.е. имеем типичный пример количественные данные. Признак `Sex` относится к качественным; содержит не только данные о поле моллюска, но и его _возрасте_. Признак `Rings` по описанию датасета является целевым и целочисленным. "
   ]
  },
  {
   "cell_type": "markdown",
   "metadata": {},
   "source": [
    "### Определение и обработка пропусков\n",
    "Уже по первым строкам видно, что в датасете имеются пропуски. Выполним анализ всех признаков."
   ]
  },
  {
   "cell_type": "code",
   "execution_count": 5,
   "metadata": {},
   "outputs": [
    {
     "data": {
      "text/plain": [
       "Diameter          99\n",
       "Whole weight      99\n",
       "Shell weight      50\n",
       "Sex                0\n",
       "Length             0\n",
       "Height             0\n",
       "Shucked weight     0\n",
       "Viscera weight     0\n",
       "Rings              0\n",
       "dtype: int64"
      ]
     },
     "execution_count": 5,
     "metadata": {},
     "output_type": "execute_result"
    }
   ],
   "source": [
    "df.isnull().sum().sort_values(ascending=False)"
   ]
  },
  {
   "cell_type": "markdown",
   "metadata": {},
   "source": [
    "На первый взгляд, пропусков немного, а двойное упоминание числа _99_ у двух признаков наводит на мысль, что они могут дублироваться в одних и тех же строках. Выведем случайные 10 строк для пропусков в признаке `Whole weight`. "
   ]
  },
  {
   "cell_type": "code",
   "execution_count": 6,
   "metadata": {},
   "outputs": [
    {
     "data": {
      "text/html": [
       "<div>\n",
       "<style scoped>\n",
       "    .dataframe tbody tr th:only-of-type {\n",
       "        vertical-align: middle;\n",
       "    }\n",
       "\n",
       "    .dataframe tbody tr th {\n",
       "        vertical-align: top;\n",
       "    }\n",
       "\n",
       "    .dataframe thead th {\n",
       "        text-align: right;\n",
       "    }\n",
       "</style>\n",
       "<table border=\"1\" class=\"dataframe\">\n",
       "  <thead>\n",
       "    <tr style=\"text-align: right;\">\n",
       "      <th></th>\n",
       "      <th>Sex</th>\n",
       "      <th>Length</th>\n",
       "      <th>Diameter</th>\n",
       "      <th>Height</th>\n",
       "      <th>Whole weight</th>\n",
       "      <th>Shucked weight</th>\n",
       "      <th>Viscera weight</th>\n",
       "      <th>Shell weight</th>\n",
       "      <th>Rings</th>\n",
       "    </tr>\n",
       "  </thead>\n",
       "  <tbody>\n",
       "    <tr>\n",
       "      <th>2776</th>\n",
       "      <td>M</td>\n",
       "      <td>0.585</td>\n",
       "      <td>0.465</td>\n",
       "      <td>0.165</td>\n",
       "      <td>NaN</td>\n",
       "      <td>0.4025</td>\n",
       "      <td>0.1625</td>\n",
       "      <td>0.2740</td>\n",
       "      <td>10</td>\n",
       "    </tr>\n",
       "    <tr>\n",
       "      <th>1714</th>\n",
       "      <td>F</td>\n",
       "      <td>0.645</td>\n",
       "      <td>0.510</td>\n",
       "      <td>0.190</td>\n",
       "      <td>NaN</td>\n",
       "      <td>0.5730</td>\n",
       "      <td>0.3620</td>\n",
       "      <td>0.3600</td>\n",
       "      <td>10</td>\n",
       "    </tr>\n",
       "    <tr>\n",
       "      <th>1538</th>\n",
       "      <td>I</td>\n",
       "      <td>0.355</td>\n",
       "      <td>0.270</td>\n",
       "      <td>0.075</td>\n",
       "      <td>NaN</td>\n",
       "      <td>0.0790</td>\n",
       "      <td>0.0315</td>\n",
       "      <td>0.0540</td>\n",
       "      <td>6</td>\n",
       "    </tr>\n",
       "    <tr>\n",
       "      <th>3805</th>\n",
       "      <td>M</td>\n",
       "      <td>0.425</td>\n",
       "      <td>0.305</td>\n",
       "      <td>0.110</td>\n",
       "      <td>NaN</td>\n",
       "      <td>0.1730</td>\n",
       "      <td>0.0875</td>\n",
       "      <td>0.0975</td>\n",
       "      <td>9</td>\n",
       "    </tr>\n",
       "    <tr>\n",
       "      <th>1111</th>\n",
       "      <td>I</td>\n",
       "      <td>0.520</td>\n",
       "      <td>0.380</td>\n",
       "      <td>0.125</td>\n",
       "      <td>NaN</td>\n",
       "      <td>0.2880</td>\n",
       "      <td>0.1295</td>\n",
       "      <td>0.1670</td>\n",
       "      <td>8</td>\n",
       "    </tr>\n",
       "    <tr>\n",
       "      <th>1167</th>\n",
       "      <td>M</td>\n",
       "      <td>0.620</td>\n",
       "      <td>0.470</td>\n",
       "      <td>0.135</td>\n",
       "      <td>NaN</td>\n",
       "      <td>0.5315</td>\n",
       "      <td>0.2005</td>\n",
       "      <td>0.2475</td>\n",
       "      <td>8</td>\n",
       "    </tr>\n",
       "    <tr>\n",
       "      <th>561</th>\n",
       "      <td>I</td>\n",
       "      <td>0.515</td>\n",
       "      <td>0.400</td>\n",
       "      <td>0.120</td>\n",
       "      <td>NaN</td>\n",
       "      <td>0.2705</td>\n",
       "      <td>0.1790</td>\n",
       "      <td>0.1700</td>\n",
       "      <td>13</td>\n",
       "    </tr>\n",
       "    <tr>\n",
       "      <th>1810</th>\n",
       "      <td>M</td>\n",
       "      <td>0.645</td>\n",
       "      <td>0.500</td>\n",
       "      <td>0.160</td>\n",
       "      <td>NaN</td>\n",
       "      <td>0.6720</td>\n",
       "      <td>0.3260</td>\n",
       "      <td>0.3150</td>\n",
       "      <td>9</td>\n",
       "    </tr>\n",
       "    <tr>\n",
       "      <th>1256</th>\n",
       "      <td>I</td>\n",
       "      <td>0.425</td>\n",
       "      <td>0.310</td>\n",
       "      <td>0.090</td>\n",
       "      <td>NaN</td>\n",
       "      <td>0.1385</td>\n",
       "      <td>0.0650</td>\n",
       "      <td>0.0800</td>\n",
       "      <td>7</td>\n",
       "    </tr>\n",
       "    <tr>\n",
       "      <th>102</th>\n",
       "      <td>M</td>\n",
       "      <td>0.530</td>\n",
       "      <td>0.435</td>\n",
       "      <td>0.160</td>\n",
       "      <td>NaN</td>\n",
       "      <td>0.3160</td>\n",
       "      <td>0.1640</td>\n",
       "      <td>0.3350</td>\n",
       "      <td>15</td>\n",
       "    </tr>\n",
       "  </tbody>\n",
       "</table>\n",
       "</div>"
      ],
      "text/plain": [
       "     Sex  Length  Diameter  Height  Whole weight  Shucked weight  \\\n",
       "2776   M   0.585     0.465   0.165           NaN          0.4025   \n",
       "1714   F   0.645     0.510   0.190           NaN          0.5730   \n",
       "1538   I   0.355     0.270   0.075           NaN          0.0790   \n",
       "3805   M   0.425     0.305   0.110           NaN          0.1730   \n",
       "1111   I   0.520     0.380   0.125           NaN          0.2880   \n",
       "1167   M   0.620     0.470   0.135           NaN          0.5315   \n",
       "561    I   0.515     0.400   0.120           NaN          0.2705   \n",
       "1810   M   0.645     0.500   0.160           NaN          0.6720   \n",
       "1256   I   0.425     0.310   0.090           NaN          0.1385   \n",
       "102    M   0.530     0.435   0.160           NaN          0.3160   \n",
       "\n",
       "      Viscera weight  Shell weight  Rings  \n",
       "2776          0.1625        0.2740     10  \n",
       "1714          0.3620        0.3600     10  \n",
       "1538          0.0315        0.0540      6  \n",
       "3805          0.0875        0.0975      9  \n",
       "1111          0.1295        0.1670      8  \n",
       "1167          0.2005        0.2475      8  \n",
       "561           0.1790        0.1700     13  \n",
       "1810          0.3260        0.3150      9  \n",
       "1256          0.0650        0.0800      7  \n",
       "102           0.1640        0.3350     15  "
      ]
     },
     "execution_count": 6,
     "metadata": {},
     "output_type": "execute_result"
    }
   ],
   "source": [
    "df[df['Whole weight'].isnull()].sample(10)"
   ]
  },
  {
   "cell_type": "markdown",
   "metadata": {},
   "source": [
    "Получаем результат, который нельзя однозначно охарактеризовать. Поэтому подсчитаем, сколько всего пропусков присутствует от общего количества строк. "
   ]
  },
  {
   "cell_type": "code",
   "execution_count": 7,
   "metadata": {},
   "outputs": [
    {
     "name": "stdout",
     "output_type": "stream",
     "text": [
      "Пропуски содержатся в 5.79 процентах строк от общего числа\n"
     ]
    }
   ],
   "source": [
    "total_missing_rows = df[['Diameter', 'Whole weight', 'Shell weight']].isnull().any(axis=1).sum()\n",
    "print(f'Пропуски содержатся в {round(100 * total_missing_rows / df.shape[0], 2)} процентах строк от общего числа')"
   ]
  },
  {
   "cell_type": "markdown",
   "metadata": {},
   "source": [
    "В целом избавиться от чуть более 5 процентов строк было бы вполне оправдано, если их природа более ясна. Сейчас же можно поступить иначе. Для признака `Shell weight` удалим все строки, поскольку они составляют чуть более 1% от общего числа строк. А для признаков `Diameter` и `Whole weight` используем метод линейной интерполяции для более _плавного_ заполнения пропусков. "
   ]
  },
  {
   "cell_type": "code",
   "execution_count": 15,
   "metadata": {},
   "outputs": [
    {
     "name": "stdout",
     "output_type": "stream",
     "text": [
      "осталось 0 пропусков\n",
      "осталось 4127 строк в датасете\n"
     ]
    }
   ],
   "source": [
    "df.dropna(subset=['Shell weight'], inplace=True)\n",
    "df.interpolate(method='linear', inplace=True)\n",
    "print(f'осталось {df.isnull().sum().sort_values(ascending=False).sum()} пропусков\\nосталось {df.shape[0]} строк в датасете')"
   ]
  },
  {
   "cell_type": "markdown",
   "metadata": {},
   "source": [
    "### Определение и обработка уникальных значений\n",
    "Хоть это и не требуется в рамках проекта напрямую, но для качественного признака (а он у нас единственный в датасете) можно рассмотреть, соответствует ли описанию данных имеющиеся значения."
   ]
  },
  {
   "cell_type": "code",
   "execution_count": 16,
   "metadata": {},
   "outputs": [
    {
     "data": {
      "text/plain": [
       "M    1432\n",
       "I    1254\n",
       "F    1248\n",
       "f     193\n",
       "Name: Sex, dtype: int64"
      ]
     },
     "execution_count": 16,
     "metadata": {},
     "output_type": "execute_result"
    }
   ],
   "source": [
    "df['Sex'].value_counts()"
   ]
  },
  {
   "cell_type": "markdown",
   "metadata": {},
   "source": [
    "Действительно в датасете для обозначения пола моллюска встречаются заглавное `F` и строчное описание `f`. Меж тем, в описании исходных данных фигурирует только верхний регистр. Возможно это и не скажется в дальнейшем, но, на всякий случай, приведём такие значения к единому верхнему регистру."
   ]
  },
  {
   "cell_type": "code",
   "execution_count": 18,
   "metadata": {},
   "outputs": [
    {
     "data": {
      "text/plain": [
       "F    1441\n",
       "M    1432\n",
       "I    1254\n",
       "Name: Sex, dtype: int64"
      ]
     },
     "execution_count": 18,
     "metadata": {},
     "output_type": "execute_result"
    }
   ],
   "source": [
    "df['Sex'] = df['Sex'].str.upper()\n",
    "df['Sex'].value_counts()"
   ]
  },
  {
   "cell_type": "markdown",
   "metadata": {
    "id": "kmwaujomWi4W",
    "jp-MarkdownHeadingCollapsed": true
   },
   "source": [
    "## Однофакторный анализ"
   ]
  },
  {
   "cell_type": "markdown",
   "metadata": {
    "id": "jobsgYYJ3CvE"
   },
   "source": [
    "## Построение матрицы корреляций"
   ]
  },
  {
   "cell_type": "markdown",
   "metadata": {
    "id": "YNv5EGnb3KuH"
   },
   "source": [
    "## Анализ целевой переменной"
   ]
  },
  {
   "cell_type": "markdown",
   "metadata": {},
   "source": [
    "## Сравнение библиотек"
   ]
  },
  {
   "cell_type": "markdown",
   "metadata": {},
   "source": [
    "# Выводы"
   ]
  }
 ],
 "metadata": {
  "colab": {
   "provenance": [],
   "toc_visible": true
  },
  "kernelspec": {
   "display_name": "Python 3 (ipykernel)",
   "language": "python",
   "name": "python3"
  },
  "language_info": {
   "codemirror_mode": {
    "name": "ipython",
    "version": 3
   },
   "file_extension": ".py",
   "mimetype": "text/x-python",
   "name": "python",
   "nbconvert_exporter": "python",
   "pygments_lexer": "ipython3",
   "version": "3.10.12"
  }
 },
 "nbformat": 4,
 "nbformat_minor": 4
}
